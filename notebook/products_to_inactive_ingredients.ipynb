{
 "cells": [
  {
   "cell_type": "markdown",
   "id": "2b3ab943-fac4-48b6-bde7-cf6683cd83c4",
   "metadata": {},
   "source": [
    "<a href=\"https://github.com/nghiencuuthuoc/PharmApp/PharmApp.ipynb\" target=\"_parent\"><img src=\"https://colab.research.google.com/assets/colab-badge.svg\" alt=\"Open In Colab\"/></a>\n",
    "\n",
    "![](https://raw.githubusercontent.com/nghiencuuthuoc/PharmApp/master/PharmApp-logo.png)\n",
    "# PharmApp - Drug Discovery and Development\n",
    "Copyright 2024 | Nghiên Cứu Thuốc | RD_Pharma_Plus\n",
    "\n",
    "Email: nghiencuuthuoc@gmail.com | http://www.nghiencuuthuoc.com | https://twitter.com/nghiencuuthuoc | https://facebook.com/nghiencuuthuoc"
   ]
  },
  {
   "cell_type": "markdown",
   "id": "a5759108-6233-4a30-b7e2-95c90cf7574a",
   "metadata": {},
   "source": [
    "# Extract product_name to excipients"
   ]
  },
  {
   "cell_type": "markdown",
   "id": "0b0f6265-7eea-4a99-97f4-e75dc3c9bf88",
   "metadata": {},
   "source": [
    "## Tìm tá dược cho các thuốc sắp hết patents"
   ]
  },
  {
   "cell_type": "markdown",
   "id": "1401e5b7-bbc5-4e3c-9909-c0d44dedb6b4",
   "metadata": {},
   "source": [
    "## Database: products_to_inactive_ingredients"
   ]
  },
  {
   "cell_type": "code",
   "execution_count": 39,
   "id": "88bb1dd7-3fa4-46a4-b364-e20d39b3a24f",
   "metadata": {},
   "outputs": [
    {
     "data": {
      "text/plain": [
       "'D:\\\\PharmApp\\\\notebook'"
      ]
     },
     "execution_count": 39,
     "metadata": {},
     "output_type": "execute_result"
    }
   ],
   "source": [
    "import sys\n",
    "sys.path.append('..')\n",
    "import os\n",
    "os.getcwd()"
   ]
  },
  {
   "cell_type": "code",
   "execution_count": 40,
   "id": "5bc8bf45-d222-47fa-bd06-9ffeb1f2af1e",
   "metadata": {},
   "outputs": [],
   "source": [
    "import pandas as pd"
   ]
  },
  {
   "cell_type": "markdown",
   "id": "2f53d9f7-59eb-4e0c-b81a-d813712ecc0a",
   "metadata": {},
   "source": [
    "## Dữ liệu về tá dược cập nhật 2024-08"
   ]
  },
  {
   "cell_type": "code",
   "execution_count": 41,
   "id": "afa88878-7f3e-45c8-a9b2-d63671a6c940",
   "metadata": {},
   "outputs": [
    {
     "data": {
      "text/html": [
       "<div>\n",
       "<style scoped>\n",
       "    .dataframe tbody tr th:only-of-type {\n",
       "        vertical-align: middle;\n",
       "    }\n",
       "\n",
       "    .dataframe tbody tr th {\n",
       "        vertical-align: top;\n",
       "    }\n",
       "\n",
       "    .dataframe thead th {\n",
       "        text-align: right;\n",
       "    }\n",
       "</style>\n",
       "<table border=\"1\" class=\"dataframe\">\n",
       "  <thead>\n",
       "    <tr style=\"text-align: right;\">\n",
       "      <th></th>\n",
       "      <th>ndc9</th>\n",
       "      <th>ndc</th>\n",
       "      <th>product_rxcui</th>\n",
       "      <th>product_name</th>\n",
       "      <th>product_tty</th>\n",
       "      <th>inactive_ingredient_unii</th>\n",
       "      <th>inactive_ingredient_rxcui</th>\n",
       "      <th>inactive_ingredient_name</th>\n",
       "      <th>inactive_ingredient_tty</th>\n",
       "      <th>active</th>\n",
       "      <th>prescribable</th>\n",
       "    </tr>\n",
       "  </thead>\n",
       "  <tbody>\n",
       "    <tr>\n",
       "      <th>0</th>\n",
       "      <td>000020152</td>\n",
       "      <td>0002-0152</td>\n",
       "      <td>2679323</td>\n",
       "      <td>tirzepatide 2.5 mg in 0.5 mL SUBCUTANEOUS INJE...</td>\n",
       "      <td>DP</td>\n",
       "      <td>059QF0KO0R</td>\n",
       "      <td>11295</td>\n",
       "      <td>Water</td>\n",
       "      <td>SU</td>\n",
       "      <td>True</td>\n",
       "      <td>True</td>\n",
       "    </tr>\n",
       "    <tr>\n",
       "      <th>1</th>\n",
       "      <td>000020152</td>\n",
       "      <td>0002-0152</td>\n",
       "      <td>2679323</td>\n",
       "      <td>tirzepatide 2.5 mg in 0.5 mL SUBCUTANEOUS INJE...</td>\n",
       "      <td>DP</td>\n",
       "      <td>451W47IQ8X</td>\n",
       "      <td>9863</td>\n",
       "      <td>Sodium Chloride</td>\n",
       "      <td>SU</td>\n",
       "      <td>True</td>\n",
       "      <td>True</td>\n",
       "    </tr>\n",
       "    <tr>\n",
       "      <th>2</th>\n",
       "      <td>000020152</td>\n",
       "      <td>0002-0152</td>\n",
       "      <td>2679323</td>\n",
       "      <td>tirzepatide 2.5 mg in 0.5 mL SUBCUTANEOUS INJE...</td>\n",
       "      <td>DP</td>\n",
       "      <td>55X04QC32I</td>\n",
       "      <td>9880</td>\n",
       "      <td>Sodium Hydroxide</td>\n",
       "      <td>SU</td>\n",
       "      <td>True</td>\n",
       "      <td>True</td>\n",
       "    </tr>\n",
       "    <tr>\n",
       "      <th>3</th>\n",
       "      <td>000020152</td>\n",
       "      <td>0002-0152</td>\n",
       "      <td>2679323</td>\n",
       "      <td>tirzepatide 2.5 mg in 0.5 mL SUBCUTANEOUS INJE...</td>\n",
       "      <td>DP</td>\n",
       "      <td>70WT22SF4B</td>\n",
       "      <td>221090</td>\n",
       "      <td>Sodium Phosphate, Dibasic, Heptahydrate</td>\n",
       "      <td>SU</td>\n",
       "      <td>True</td>\n",
       "      <td>True</td>\n",
       "    </tr>\n",
       "    <tr>\n",
       "      <th>4</th>\n",
       "      <td>000020152</td>\n",
       "      <td>0002-0152</td>\n",
       "      <td>2679323</td>\n",
       "      <td>tirzepatide 2.5 mg in 0.5 mL SUBCUTANEOUS INJE...</td>\n",
       "      <td>DP</td>\n",
       "      <td>QTT17582CB</td>\n",
       "      <td>5486</td>\n",
       "      <td>Hydrochloric Acid</td>\n",
       "      <td>SU</td>\n",
       "      <td>True</td>\n",
       "      <td>True</td>\n",
       "    </tr>\n",
       "  </tbody>\n",
       "</table>\n",
       "</div>"
      ],
      "text/plain": [
       "        ndc9        ndc  product_rxcui  \\\n",
       "0  000020152  0002-0152        2679323   \n",
       "1  000020152  0002-0152        2679323   \n",
       "2  000020152  0002-0152        2679323   \n",
       "3  000020152  0002-0152        2679323   \n",
       "4  000020152  0002-0152        2679323   \n",
       "\n",
       "                                        product_name product_tty  \\\n",
       "0  tirzepatide 2.5 mg in 0.5 mL SUBCUTANEOUS INJE...          DP   \n",
       "1  tirzepatide 2.5 mg in 0.5 mL SUBCUTANEOUS INJE...          DP   \n",
       "2  tirzepatide 2.5 mg in 0.5 mL SUBCUTANEOUS INJE...          DP   \n",
       "3  tirzepatide 2.5 mg in 0.5 mL SUBCUTANEOUS INJE...          DP   \n",
       "4  tirzepatide 2.5 mg in 0.5 mL SUBCUTANEOUS INJE...          DP   \n",
       "\n",
       "  inactive_ingredient_unii  inactive_ingredient_rxcui  \\\n",
       "0               059QF0KO0R                      11295   \n",
       "1               451W47IQ8X                       9863   \n",
       "2               55X04QC32I                       9880   \n",
       "3               70WT22SF4B                     221090   \n",
       "4               QTT17582CB                       5486   \n",
       "\n",
       "                  inactive_ingredient_name inactive_ingredient_tty  active  \\\n",
       "0                                    Water                      SU    True   \n",
       "1                          Sodium Chloride                      SU    True   \n",
       "2                         Sodium Hydroxide                      SU    True   \n",
       "3  Sodium Phosphate, Dibasic, Heptahydrate                      SU    True   \n",
       "4                        Hydrochloric Acid                      SU    True   \n",
       "\n",
       "   prescribable  \n",
       "0          True  \n",
       "1          True  \n",
       "2          True  \n",
       "3          True  \n",
       "4          True  "
      ]
     },
     "execution_count": 41,
     "metadata": {},
     "output_type": "execute_result"
    }
   ],
   "source": [
    "products_to_inactive_ingredients = pd.read_csv(\"../sagerxdata/products_to_inactive_ingredients.csv\", low_memory=False)\n",
    "products_to_inactive_ingredients.head()"
   ]
  },
  {
   "cell_type": "markdown",
   "id": "03b7caae-d990-4262-bddb-ba7491602e5f",
   "metadata": {},
   "source": [
    "## Bắt đầu gõ tên thuốc tìm"
   ]
  },
  {
   "cell_type": "markdown",
   "id": "8250ee84-6e4a-4cdb-9cd0-d7c8ea913d8d",
   "metadata": {},
   "source": [
    "## Extract product_name to excipients"
   ]
  },
  {
   "cell_type": "code",
   "execution_count": 42,
   "id": "0550856e-4457-41df-8b6a-02b6c36548ce",
   "metadata": {},
   "outputs": [],
   "source": [
    "import pandas as pd\n",
    "import numpy as np\n",
    "def search(df: pd.DataFrame, substring: str, case: bool = False) -> pd.DataFrame: \n",
    "    mask = np.column_stack([df[col].astype(str).str.contains(substring.lower(), case=case, na=False) for col in df])\n",
    "    return df.loc[mask.any(axis=1)]"
   ]
  },
  {
   "cell_type": "code",
   "execution_count": 43,
   "id": "bec947a9-96b6-40e6-bd58-11a8cd29272c",
   "metadata": {},
   "outputs": [],
   "source": [
    "df = products_to_inactive_ingredients"
   ]
  },
  {
   "cell_type": "code",
   "execution_count": 44,
   "id": "f7dc28f3-fb1b-4e04-9359-dc2e7081a48a",
   "metadata": {},
   "outputs": [
    {
     "name": "stdin",
     "output_type": "stream",
     "text": [
      "Enter drug name:  Keytruda\n"
     ]
    },
    {
     "name": "stderr",
     "output_type": "stream",
     "text": [
      "PandasGUI INFO — pandasgui.gui — Opening PandasGUI\n"
     ]
    }
   ],
   "source": [
    "drug_name = str(input(\"Enter drug name: \"))\n",
    "dfs = search(df, drug_name)\n",
    "from pandasgui import show\n",
    "import warnings\n",
    "warnings.simplefilter(action='ignore', category=FutureWarning)\n",
    "if dfs is not None:\n",
    "    dfs = {drug_name :dfs}\n",
    "    show(**dfs) # show data with pandasgui"
   ]
  },
  {
   "cell_type": "markdown",
   "id": "88b7de0e-c5c6-47af-bcec-1ace7c513abe",
   "metadata": {},
   "source": [
    "## Lệnh đang chay và hiện ra tá dược thuốc Keytruda"
   ]
  },
  {
   "cell_type": "markdown",
   "id": "5dcfab3b-7fba-4774-9bbd-430e08295768",
   "metadata": {},
   "source": [
    "## 1. Tìm thêm thuốc Eliquis"
   ]
  },
  {
   "cell_type": "code",
   "execution_count": 45,
   "id": "7f2e1c64-a657-4002-84f0-5024a860108d",
   "metadata": {},
   "outputs": [
    {
     "name": "stdin",
     "output_type": "stream",
     "text": [
      "Enter drug name:  Eliquis\n"
     ]
    },
    {
     "name": "stderr",
     "output_type": "stream",
     "text": [
      "PandasGUI INFO — pandasgui.gui — Opening PandasGUI\n"
     ]
    }
   ],
   "source": [
    "drug_name = str(input(\"Enter drug name: \"))\n",
    "dfs = search(df, drug_name)\n",
    "from pandasgui import show\n",
    "import warnings\n",
    "warnings.simplefilter(action='ignore', category=FutureWarning)\n",
    "if dfs is not None:\n",
    "    dfs = {drug_name :dfs}\n",
    "    show(**dfs) # show data with pandasgui"
   ]
  },
  {
   "cell_type": "markdown",
   "id": "972c7e7f-b409-4604-9eb9-e43079e054b4",
   "metadata": {},
   "source": [
    "## Lệnh đang chay và hiện ra tá dược thuốc Eliquis"
   ]
  },
  {
   "cell_type": "markdown",
   "id": "539bb4ee-bc19-485b-970a-c2b8cb6fd6ac",
   "metadata": {},
   "source": [
    "## 2. tìm tiếp thuốc Eylea"
   ]
  },
  {
   "cell_type": "code",
   "execution_count": 46,
   "id": "eaeb7646-375e-4e48-bcc9-96c4cc9ef96d",
   "metadata": {},
   "outputs": [
    {
     "name": "stdin",
     "output_type": "stream",
     "text": [
      "Enter drug name:  Eylea\n"
     ]
    },
    {
     "name": "stderr",
     "output_type": "stream",
     "text": [
      "PandasGUI INFO — pandasgui.gui — Opening PandasGUI\n"
     ]
    }
   ],
   "source": [
    "drug_name = str(input(\"Enter drug name: \"))\n",
    "dfs = search(df, drug_name)\n",
    "from pandasgui import show\n",
    "import warnings\n",
    "warnings.simplefilter(action='ignore', category=FutureWarning)\n",
    "if dfs is not None:\n",
    "    dfs = {drug_name :dfs}\n",
    "    show(**dfs) # show data with pandasgui"
   ]
  },
  {
   "cell_type": "markdown",
   "id": "abe97583-6800-4ada-b928-d3d86dd62f23",
   "metadata": {},
   "source": [
    "## 3. Tìm tiếp thuốc Opdivo"
   ]
  },
  {
   "cell_type": "code",
   "execution_count": 47,
   "id": "720123d3-e1c9-429c-b60f-5357b99f42f2",
   "metadata": {},
   "outputs": [
    {
     "name": "stdin",
     "output_type": "stream",
     "text": [
      "Enter drug name:  Opdivo\n"
     ]
    },
    {
     "name": "stderr",
     "output_type": "stream",
     "text": [
      "PandasGUI INFO — pandasgui.gui — Opening PandasGUI\n"
     ]
    }
   ],
   "source": [
    "drug_name = str(input(\"Enter drug name: \"))\n",
    "dfs = search(df, drug_name)\n",
    "from pandasgui import show\n",
    "import warnings\n",
    "warnings.simplefilter(action='ignore', category=FutureWarning)\n",
    "if dfs is not None:\n",
    "    dfs = {drug_name :dfs}\n",
    "    show(**dfs) # show data with pandasgui"
   ]
  },
  {
   "cell_type": "markdown",
   "id": "33c00192-e35f-44c4-94a8-3d09081bcf52",
   "metadata": {},
   "source": [
    "## 4. Tìm thêm thuốc Ibrance"
   ]
  },
  {
   "cell_type": "code",
   "execution_count": 48,
   "id": "3122c6ad-b625-4454-93ec-12399d3c3a7f",
   "metadata": {},
   "outputs": [
    {
     "name": "stdin",
     "output_type": "stream",
     "text": [
      "Enter drug name:  Ibrance\n"
     ]
    },
    {
     "name": "stderr",
     "output_type": "stream",
     "text": [
      "PandasGUI INFO — pandasgui.gui — Opening PandasGUI\n"
     ]
    }
   ],
   "source": [
    "drug_name = str(input(\"Enter drug name: \"))\n",
    "dfs = search(df, drug_name)\n",
    "from pandasgui import show\n",
    "import warnings\n",
    "warnings.simplefilter(action='ignore', category=FutureWarning)\n",
    "if dfs is not None:\n",
    "    dfs = {drug_name :dfs}\n",
    "    show(**dfs) # show data with pandasgui"
   ]
  },
  {
   "cell_type": "markdown",
   "id": "ef7f4750-7e06-42c9-8577-1243332d0da7",
   "metadata": {},
   "source": [
    "## 5. Tìm tá dược thuốc Xarelto"
   ]
  },
  {
   "cell_type": "code",
   "execution_count": 49,
   "id": "43a8cb00-e262-4c73-a7a4-f52c9290fb3d",
   "metadata": {},
   "outputs": [
    {
     "name": "stdin",
     "output_type": "stream",
     "text": [
      "Enter drug name:  Xarelto\n"
     ]
    },
    {
     "name": "stderr",
     "output_type": "stream",
     "text": [
      "PandasGUI INFO — pandasgui.gui — Opening PandasGUI\n"
     ]
    }
   ],
   "source": [
    "drug_name = str(input(\"Enter drug name: \"))\n",
    "dfs = search(df, drug_name)\n",
    "from pandasgui import show\n",
    "import warnings\n",
    "warnings.simplefilter(action='ignore', category=FutureWarning)\n",
    "if dfs is not None:\n",
    "    dfs = {drug_name :dfs}\n",
    "    show(**dfs) # show data with pandasgui"
   ]
  },
  {
   "cell_type": "markdown",
   "id": "8eb255f8-b1eb-45a0-b788-cfa70bb636c2",
   "metadata": {},
   "source": [
    "## Từ thành phần tá dược xuất ra công thức dùng Quality By Design (QbD) sẽ hướng dẫn tiếp phần sau"
   ]
  },
  {
   "cell_type": "markdown",
   "id": "2e671782-1376-4068-85d1-37dd193c3c0a",
   "metadata": {},
   "source": [
    "## Đã show xong 5 thuốc tiêu biểu cho quí khách tham khảo. Cảm ơn đã xem."
   ]
  },
  {
   "cell_type": "markdown",
   "id": "99eed3a0-6694-44d4-addb-17d423c6180d",
   "metadata": {},
   "source": [
    "## Nếu quan tâm hay có câu hỏi hãy gửi mail hoặc messinger theo ..."
   ]
  },
  {
   "cell_type": "markdown",
   "id": "4b404f46-7fbc-4a93-9f4e-57a0fa117db1",
   "metadata": {},
   "source": [
    "<a href=\"https://github.com/nghiencuuthuoc/PharmApp/PharmApp.ipynb\" target=\"_parent\"><img src=\"https://colab.research.google.com/assets/colab-badge.svg\" alt=\"Open In Colab\"/></a>\n",
    "\n",
    "![](https://raw.githubusercontent.com/nghiencuuthuoc/PharmApp/master/PharmApp-logo.png)\n",
    "# PharmApp - Drug Discovery and Development\n",
    "Copyright 2024 | Nghiên Cứu Thuốc | RD_Pharma_Plus\n",
    "\n",
    "Email: nghiencuuthuoc@gmail.com | http://www.nghiencuuthuoc.com | https://twitter.com/nghiencuuthuoc | https://facebook.com/nghiencuuthuoc"
   ]
  },
  {
   "cell_type": "markdown",
   "id": "6fdf9121-b48c-4bc5-b41d-ad1fe295a094",
   "metadata": {},
   "source": [
    "## Xin trân trọng cảm ơn :D"
   ]
  },
  {
   "cell_type": "code",
   "execution_count": null,
   "id": "43db5946-fe45-41cc-b00e-0752fadf9878",
   "metadata": {},
   "outputs": [],
   "source": []
  }
 ],
 "metadata": {
  "kernelspec": {
   "display_name": "Python 3 (ipykernel)",
   "language": "python",
   "name": "python3"
  },
  "language_info": {
   "codemirror_mode": {
    "name": "ipython",
    "version": 3
   },
   "file_extension": ".py",
   "mimetype": "text/x-python",
   "name": "python",
   "nbconvert_exporter": "python",
   "pygments_lexer": "ipython3",
   "version": "3.12.5"
  }
 },
 "nbformat": 4,
 "nbformat_minor": 5
}
